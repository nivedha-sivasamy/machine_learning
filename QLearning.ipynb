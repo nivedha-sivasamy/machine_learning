{
  "cells": [
    {
      "cell_type": "markdown",
      "metadata": {
        "id": "7sfbENWM3iw_"
      },
      "source": [
        "# Q Learning\n",
        "\n",
        "## Aim\n",
        "To find the maximum rewards obtained by agent as the episodes are increased.\n",
        "\n",
        "## Environment\n",
        "Frozen Lake environment V1\n"
      ]
    },
    {
      "cell_type": "code",
      "execution_count": null,
      "metadata": {
        "id": "lp8GkkDIgzwk"
      },
      "outputs": [],
      "source": [
        "# Importing the libraries\n",
        "import numpy as np\n",
        "import gym\n",
        "import warnings\n",
        "warnings.filterwarnings(\"ignore\")"
      ]
    },
    {
      "cell_type": "code",
      "execution_count": null,
      "metadata": {
        "colab": {
          "base_uri": "https://localhost:8080/"
        },
        "id": "e34UxvqJg5SP",
        "outputId": "5091f49f-5e4b-491d-e154-d3dad4128383"
      },
      "outputs": [
        {
          "name": "stderr",
          "output_type": "stream",
          "text": [
            "/usr/local/lib/python3.7/dist-packages/gym/core.py:330: DeprecationWarning: \u001b[33mWARN: Initializing wrapper in old step API which returns one bool instead of two. It is recommended to set `new_step_api=True` to use new step API. This will be the default behaviour in future.\u001b[0m\n",
            "  \"Initializing wrapper in old step API which returns one bool instead of two. It is recommended to set `new_step_api=True` to use new step API. This will be the default behaviour in future.\"\n",
            "/usr/local/lib/python3.7/dist-packages/gym/wrappers/step_api_compatibility.py:40: DeprecationWarning: \u001b[33mWARN: Initializing environment in old step API which returns one bool instead of two. It is recommended to set `new_step_api=True` to use new step API. This will be the default behaviour in future.\u001b[0m\n",
            "  \"Initializing environment in old step API which returns one bool instead of two. It is recommended to set `new_step_api=True` to use new step API. This will be the default behaviour in future.\"\n"
          ]
        }
      ],
      "source": [
        "environment = gym.make(\"FrozenLake-v1\")\n",
        "n_observations = environment.observation_space.n\n",
        "n_actions = environment.action_space.n"
      ]
    },
    {
      "cell_type": "code",
      "execution_count": null,
      "metadata": {
        "colab": {
          "base_uri": "https://localhost:8080/"
        },
        "id": "dLVdDImkhJf9",
        "outputId": "8ea1d549-0960-47b4-d6ee-4f6116496309"
      },
      "outputs": [
        {
          "name": "stdout",
          "output_type": "stream",
          "text": [
            "[[0. 0. 0. 0.]\n",
            " [0. 0. 0. 0.]\n",
            " [0. 0. 0. 0.]\n",
            " [0. 0. 0. 0.]\n",
            " [0. 0. 0. 0.]\n",
            " [0. 0. 0. 0.]\n",
            " [0. 0. 0. 0.]\n",
            " [0. 0. 0. 0.]\n",
            " [0. 0. 0. 0.]\n",
            " [0. 0. 0. 0.]\n",
            " [0. 0. 0. 0.]\n",
            " [0. 0. 0. 0.]\n",
            " [0. 0. 0. 0.]\n",
            " [0. 0. 0. 0.]\n",
            " [0. 0. 0. 0.]\n",
            " [0. 0. 0. 0.]]\n"
          ]
        }
      ],
      "source": [
        "# Creating a Qtable and initialize it to 0\n",
        "Q_table = np.zeros((n_observations,n_actions))\n",
        "print(Q_table)"
      ]
    },
    {
      "cell_type": "code",
      "execution_count": null,
      "metadata": {
        "id": "gIA5O2p-hckH"
      },
      "outputs": [],
      "source": [
        "# number of episode we will run\n",
        "n_episodes = 10000\n"
      ]
    },
    {
      "cell_type": "code",
      "execution_count": null,
      "metadata": {
        "id": "RzGgGS-XhrW8"
      },
      "outputs": [],
      "source": [
        "#maximum of iteration per episode\n",
        "max_iter_episode = 100"
      ]
    },
    {
      "cell_type": "code",
      "execution_count": null,
      "metadata": {
        "id": "SrUo3djPhtSv"
      },
      "outputs": [],
      "source": [
        "#initialize the exploration probability to 1\n",
        "exploration_proba = 1"
      ]
    },
    {
      "cell_type": "code",
      "execution_count": null,
      "metadata": {
        "id": "eIUJ5NP-hu22"
      },
      "outputs": [],
      "source": [
        "#exploartion decreasing decay for exponential decreasing\n",
        "exploration_decreasing_decay = 0.001"
      ]
    },
    {
      "cell_type": "code",
      "execution_count": null,
      "metadata": {
        "id": "7UBUQyPNhwfI"
      },
      "outputs": [],
      "source": [
        "# minimum of exploration proba\n",
        "min_exploration_proba = 0.01"
      ]
    },
    {
      "cell_type": "code",
      "execution_count": null,
      "metadata": {
        "id": "6gdbW982hzzA"
      },
      "outputs": [],
      "source": [
        "#discounted factor\n",
        "gamma = 0.99\n",
        "\n",
        "#learning rate\n",
        "lr = 0.1"
      ]
    },
    {
      "cell_type": "code",
      "execution_count": null,
      "metadata": {
        "id": "A0fU0FGKh1qw"
      },
      "outputs": [],
      "source": [
        "# Storing the total rewards\n",
        "total_rewards_episode = list()"
      ]
    },
    {
      "cell_type": "code",
      "execution_count": null,
      "metadata": {
        "id": "eJkbPrEfiPEe"
      },
      "outputs": [],
      "source": [
        "# iterating over episodes\n",
        "for e in range(n_episodes):\n",
        "    current_state = environment.reset()  # initialize the first state of the episode\n",
        "    done = False\n",
        "\n",
        "    #sum the rewards that the agent gets from the environment\n",
        "    total_episode_reward = 0\n",
        "\n",
        "    for i in range(max_iter_episode):\n",
        "        if np.random.uniform(0,1) < exploration_proba:\n",
        "            action = environment.action_space.sample()\n",
        "        else:\n",
        "            action = np.argmax(Q_table[current_state,:])\n",
        "        next_state, reward, done, _ = environment.step(action)\n",
        "\n",
        "        # updating the Q-table using the Q-learning iteration\n",
        "        Q_table[current_state, action] = (1-lr) * Q_table[current_state, action]\n",
        "        +lr*(reward + gamma*max(Q_table[next_state,:]))\n",
        "        total_episode_reward = total_episode_reward + reward\n",
        "        if done:\n",
        "            break\n",
        "        current_state = next_state\n",
        "    # updating the exploration proba using exponential decay formula\n",
        "    exploration_proba = max(min_exploration_proba, np.exp(\n",
        "        -exploration_decreasing_decay*e))\n",
        "    total_rewards_episode.append(total_episode_reward)"
      ]
    },
    {
      "cell_type": "code",
      "execution_count": null,
      "metadata": {
        "colab": {
          "base_uri": "https://localhost:8080/"
        },
        "id": "dX6X3SlijU6l",
        "outputId": "bcb34ca9-e9a6-4349-afec-d04dbec2d02d"
      },
      "outputs": [
        {
          "name": "stdout",
          "output_type": "stream",
          "text": [
            "Mean reward per thousand episodes\n",
            "1000 mean_espiode_reward:  0.027\n",
            "2000 mean_espiode_reward:  0.21\n",
            "3000 mean_espiode_reward:  0.417\n",
            "4000 mean_espiode_reward:  0.613\n",
            "5000 mean_espiode_reward:  0.66\n",
            "6000 mean_espiode_reward:  0.665\n",
            "7000 mean_espiode_reward:  0.674\n",
            "8000 mean_espiode_reward:  0.698\n",
            "9000 mean_espiode_reward:  0.678\n",
            "10000 mean_espiode_reward:  0.682\n"
          ]
        }
      ],
      "source": [
        "# Evaluating his performance\n",
        "print(\"Mean reward per thousand episodes\")\n",
        "for i in range(10):\n",
        "    print((i+1)*1000, \"mean_espiode_reward: \", np.mean(\n",
        "        total_rewards_episode[1000*i:1000*(i+1)]))\n"
      ]
    },
    {
      "cell_type": "code",
      "execution_count": null,
      "metadata": {
        "id": "AUkaS86QonSt"
      },
      "outputs": [],
      "source": []
    }
  ],
  "metadata": {
    "colab": {
      "provenance": []
    },
    "kernelspec": {
      "display_name": "Python 3 (ipykernel)",
      "language": "python",
      "name": "python3"
    },
    "language_info": {
      "codemirror_mode": {
        "name": "ipython",
        "version": 3
      },
      "file_extension": ".py",
      "mimetype": "text/x-python",
      "name": "python",
      "nbconvert_exporter": "python",
      "pygments_lexer": "ipython3",
      "version": "3.9.12"
    }
  },
  "nbformat": 4,
  "nbformat_minor": 0
}