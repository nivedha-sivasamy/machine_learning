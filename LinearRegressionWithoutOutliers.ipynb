{
  "cells": [
    {
      "cell_type": "markdown",
      "metadata": {
        "id": "gpuy8v4TIFOi"
      },
      "source": [
        "# **Linear Regression Without Outliers**\n",
        "\n",
        "### Aim :\n",
        " To predict the pricing of houses in Melbourne   using regression model\n",
        "\n",
        "\n",
        "### Objective :\n",
        "1. To analyse the influence of outliers on the price prediction\n",
        "2. To check if model is overfit or not\n",
        "3. If the model is overfit implement regularisation models Lasso and Ridge\n",
        "4. And check the model perfromance after this\n",
        "\n",
        "### Dataset : Melbourne housing dataset\n",
        "\n",
        "### Source : Kaggle"
      ]
    },
    {
      "cell_type": "code",
      "execution_count": null,
      "metadata": {
        "id": "lTriSScxC6_M"
      },
      "outputs": [],
      "source": [
        "# Importing all the required packages and modules\n",
        "import numpy as np\n",
        "import pandas as pd\n",
        "from sklearn.linear_model import LinearRegression\n",
        "from sklearn.metrics import r2_score\n",
        "import matplotlib.pyplot as plt\n",
        "import seaborn as sns\n",
        "from sklearn.linear_model import Lasso\n",
        "from sklearn.linear_model import Ridge\n",
        "from sklearn.model_selection import train_test_split\n",
        "from sklearn.metrics import mean_squared_error,r2_score,accuracy_score\n",
        "import warnings\n",
        "warnings.filterwarnings('ignore')"
      ]
    },
    {
      "cell_type": "code",
      "execution_count": null,
      "metadata": {
        "id": "SOpBxmRvDEQZ"
      },
      "outputs": [],
      "source": [
        "# Importing the data\n",
        "data=pd.read_csv(\"/content/drive/MyDrive/Melbourne_housing_FULL.csv\")"
      ]
    },
    {
      "cell_type": "code",
      "execution_count": null,
      "metadata": {
        "colab": {
          "base_uri": "https://localhost:8080/",
          "height": 404
        },
        "id": "WnCM2e6pDNIa",
        "outputId": "f0ece517-65da-4a8b-88c6-515c1c90a733"
      },
      "outputs": [
        {
          "data": {
            "text/html": [
              "\n",
              "  <div id=\"df-cb23f6d9-5c10-41af-809c-cfdbcb7c1c72\">\n",
              "    <div class=\"colab-df-container\">\n",
              "      <div>\n",
              "<style scoped>\n",
              "    .dataframe tbody tr th:only-of-type {\n",
              "        vertical-align: middle;\n",
              "    }\n",
              "\n",
              "    .dataframe tbody tr th {\n",
              "        vertical-align: top;\n",
              "    }\n",
              "\n",
              "    .dataframe thead th {\n",
              "        text-align: right;\n",
              "    }\n",
              "</style>\n",
              "<table border=\"1\" class=\"dataframe\">\n",
              "  <thead>\n",
              "    <tr style=\"text-align: right;\">\n",
              "      <th></th>\n",
              "      <th>Suburb</th>\n",
              "      <th>Address</th>\n",
              "      <th>Rooms</th>\n",
              "      <th>Type</th>\n",
              "      <th>Price</th>\n",
              "      <th>Method</th>\n",
              "      <th>SellerG</th>\n",
              "      <th>Date</th>\n",
              "      <th>Distance</th>\n",
              "      <th>Postcode</th>\n",
              "      <th>...</th>\n",
              "      <th>Bathroom</th>\n",
              "      <th>Car</th>\n",
              "      <th>Landsize</th>\n",
              "      <th>BuildingArea</th>\n",
              "      <th>YearBuilt</th>\n",
              "      <th>CouncilArea</th>\n",
              "      <th>Lattitude</th>\n",
              "      <th>Longtitude</th>\n",
              "      <th>Regionname</th>\n",
              "      <th>Propertycount</th>\n",
              "    </tr>\n",
              "  </thead>\n",
              "  <tbody>\n",
              "    <tr>\n",
              "      <th>0</th>\n",
              "      <td>Abbotsford</td>\n",
              "      <td>68 Studley St</td>\n",
              "      <td>2</td>\n",
              "      <td>h</td>\n",
              "      <td>NaN</td>\n",
              "      <td>SS</td>\n",
              "      <td>Jellis</td>\n",
              "      <td>3/09/2016</td>\n",
              "      <td>2.5</td>\n",
              "      <td>3067.0</td>\n",
              "      <td>...</td>\n",
              "      <td>1.0</td>\n",
              "      <td>1.0</td>\n",
              "      <td>126.0</td>\n",
              "      <td>NaN</td>\n",
              "      <td>NaN</td>\n",
              "      <td>Yarra City Council</td>\n",
              "      <td>-37.8014</td>\n",
              "      <td>144.9958</td>\n",
              "      <td>Northern Metropolitan</td>\n",
              "      <td>4019.0</td>\n",
              "    </tr>\n",
              "    <tr>\n",
              "      <th>1</th>\n",
              "      <td>Abbotsford</td>\n",
              "      <td>85 Turner St</td>\n",
              "      <td>2</td>\n",
              "      <td>h</td>\n",
              "      <td>1480000.0</td>\n",
              "      <td>S</td>\n",
              "      <td>Biggin</td>\n",
              "      <td>3/12/2016</td>\n",
              "      <td>2.5</td>\n",
              "      <td>3067.0</td>\n",
              "      <td>...</td>\n",
              "      <td>1.0</td>\n",
              "      <td>1.0</td>\n",
              "      <td>202.0</td>\n",
              "      <td>NaN</td>\n",
              "      <td>NaN</td>\n",
              "      <td>Yarra City Council</td>\n",
              "      <td>-37.7996</td>\n",
              "      <td>144.9984</td>\n",
              "      <td>Northern Metropolitan</td>\n",
              "      <td>4019.0</td>\n",
              "    </tr>\n",
              "    <tr>\n",
              "      <th>2</th>\n",
              "      <td>Abbotsford</td>\n",
              "      <td>25 Bloomburg St</td>\n",
              "      <td>2</td>\n",
              "      <td>h</td>\n",
              "      <td>1035000.0</td>\n",
              "      <td>S</td>\n",
              "      <td>Biggin</td>\n",
              "      <td>4/02/2016</td>\n",
              "      <td>2.5</td>\n",
              "      <td>3067.0</td>\n",
              "      <td>...</td>\n",
              "      <td>1.0</td>\n",
              "      <td>0.0</td>\n",
              "      <td>156.0</td>\n",
              "      <td>79.0</td>\n",
              "      <td>1900.0</td>\n",
              "      <td>Yarra City Council</td>\n",
              "      <td>-37.8079</td>\n",
              "      <td>144.9934</td>\n",
              "      <td>Northern Metropolitan</td>\n",
              "      <td>4019.0</td>\n",
              "    </tr>\n",
              "    <tr>\n",
              "      <th>3</th>\n",
              "      <td>Abbotsford</td>\n",
              "      <td>18/659 Victoria St</td>\n",
              "      <td>3</td>\n",
              "      <td>u</td>\n",
              "      <td>NaN</td>\n",
              "      <td>VB</td>\n",
              "      <td>Rounds</td>\n",
              "      <td>4/02/2016</td>\n",
              "      <td>2.5</td>\n",
              "      <td>3067.0</td>\n",
              "      <td>...</td>\n",
              "      <td>2.0</td>\n",
              "      <td>1.0</td>\n",
              "      <td>0.0</td>\n",
              "      <td>NaN</td>\n",
              "      <td>NaN</td>\n",
              "      <td>Yarra City Council</td>\n",
              "      <td>-37.8114</td>\n",
              "      <td>145.0116</td>\n",
              "      <td>Northern Metropolitan</td>\n",
              "      <td>4019.0</td>\n",
              "    </tr>\n",
              "    <tr>\n",
              "      <th>4</th>\n",
              "      <td>Abbotsford</td>\n",
              "      <td>5 Charles St</td>\n",
              "      <td>3</td>\n",
              "      <td>h</td>\n",
              "      <td>1465000.0</td>\n",
              "      <td>SP</td>\n",
              "      <td>Biggin</td>\n",
              "      <td>4/03/2017</td>\n",
              "      <td>2.5</td>\n",
              "      <td>3067.0</td>\n",
              "      <td>...</td>\n",
              "      <td>2.0</td>\n",
              "      <td>0.0</td>\n",
              "      <td>134.0</td>\n",
              "      <td>150.0</td>\n",
              "      <td>1900.0</td>\n",
              "      <td>Yarra City Council</td>\n",
              "      <td>-37.8093</td>\n",
              "      <td>144.9944</td>\n",
              "      <td>Northern Metropolitan</td>\n",
              "      <td>4019.0</td>\n",
              "    </tr>\n",
              "  </tbody>\n",
              "</table>\n",
              "<p>5 rows × 21 columns</p>\n",
              "</div>\n",
              "      <button class=\"colab-df-convert\" onclick=\"convertToInteractive('df-cb23f6d9-5c10-41af-809c-cfdbcb7c1c72')\"\n",
              "              title=\"Convert this dataframe to an interactive table.\"\n",
              "              style=\"display:none;\">\n",
              "        \n",
              "  <svg xmlns=\"http://www.w3.org/2000/svg\" height=\"24px\"viewBox=\"0 0 24 24\"\n",
              "       width=\"24px\">\n",
              "    <path d=\"M0 0h24v24H0V0z\" fill=\"none\"/>\n",
              "    <path d=\"M18.56 5.44l.94 2.06.94-2.06 2.06-.94-2.06-.94-.94-2.06-.94 2.06-2.06.94zm-11 1L8.5 8.5l.94-2.06 2.06-.94-2.06-.94L8.5 2.5l-.94 2.06-2.06.94zm10 10l.94 2.06.94-2.06 2.06-.94-2.06-.94-.94-2.06-.94 2.06-2.06.94z\"/><path d=\"M17.41 7.96l-1.37-1.37c-.4-.4-.92-.59-1.43-.59-.52 0-1.04.2-1.43.59L10.3 9.45l-7.72 7.72c-.78.78-.78 2.05 0 2.83L4 21.41c.39.39.9.59 1.41.59.51 0 1.02-.2 1.41-.59l7.78-7.78 2.81-2.81c.8-.78.8-2.07 0-2.86zM5.41 20L4 18.59l7.72-7.72 1.47 1.35L5.41 20z\"/>\n",
              "  </svg>\n",
              "      </button>\n",
              "      \n",
              "  <style>\n",
              "    .colab-df-container {\n",
              "      display:flex;\n",
              "      flex-wrap:wrap;\n",
              "      gap: 12px;\n",
              "    }\n",
              "\n",
              "    .colab-df-convert {\n",
              "      background-color: #E8F0FE;\n",
              "      border: none;\n",
              "      border-radius: 50%;\n",
              "      cursor: pointer;\n",
              "      display: none;\n",
              "      fill: #1967D2;\n",
              "      height: 32px;\n",
              "      padding: 0 0 0 0;\n",
              "      width: 32px;\n",
              "    }\n",
              "\n",
              "    .colab-df-convert:hover {\n",
              "      background-color: #E2EBFA;\n",
              "      box-shadow: 0px 1px 2px rgba(60, 64, 67, 0.3), 0px 1px 3px 1px rgba(60, 64, 67, 0.15);\n",
              "      fill: #174EA6;\n",
              "    }\n",
              "\n",
              "    [theme=dark] .colab-df-convert {\n",
              "      background-color: #3B4455;\n",
              "      fill: #D2E3FC;\n",
              "    }\n",
              "\n",
              "    [theme=dark] .colab-df-convert:hover {\n",
              "      background-color: #434B5C;\n",
              "      box-shadow: 0px 1px 3px 1px rgba(0, 0, 0, 0.15);\n",
              "      filter: drop-shadow(0px 1px 2px rgba(0, 0, 0, 0.3));\n",
              "      fill: #FFFFFF;\n",
              "    }\n",
              "  </style>\n",
              "\n",
              "      <script>\n",
              "        const buttonEl =\n",
              "          document.querySelector('#df-cb23f6d9-5c10-41af-809c-cfdbcb7c1c72 button.colab-df-convert');\n",
              "        buttonEl.style.display =\n",
              "          google.colab.kernel.accessAllowed ? 'block' : 'none';\n",
              "\n",
              "        async function convertToInteractive(key) {\n",
              "          const element = document.querySelector('#df-cb23f6d9-5c10-41af-809c-cfdbcb7c1c72');\n",
              "          const dataTable =\n",
              "            await google.colab.kernel.invokeFunction('convertToInteractive',\n",
              "                                                     [key], {});\n",
              "          if (!dataTable) return;\n",
              "\n",
              "          const docLinkHtml = 'Like what you see? Visit the ' +\n",
              "            '<a target=\"_blank\" href=https://colab.research.google.com/notebooks/data_table.ipynb>data table notebook</a>'\n",
              "            + ' to learn more about interactive tables.';\n",
              "          element.innerHTML = '';\n",
              "          dataTable['output_type'] = 'display_data';\n",
              "          await google.colab.output.renderOutput(dataTable, element);\n",
              "          const docLink = document.createElement('div');\n",
              "          docLink.innerHTML = docLinkHtml;\n",
              "          element.appendChild(docLink);\n",
              "        }\n",
              "      </script>\n",
              "    </div>\n",
              "  </div>\n",
              "  "
            ],
            "text/plain": [
              "       Suburb             Address  Rooms Type      Price Method SellerG  \\\n",
              "0  Abbotsford       68 Studley St      2    h        NaN     SS  Jellis   \n",
              "1  Abbotsford        85 Turner St      2    h  1480000.0      S  Biggin   \n",
              "2  Abbotsford     25 Bloomburg St      2    h  1035000.0      S  Biggin   \n",
              "3  Abbotsford  18/659 Victoria St      3    u        NaN     VB  Rounds   \n",
              "4  Abbotsford        5 Charles St      3    h  1465000.0     SP  Biggin   \n",
              "\n",
              "        Date  Distance  Postcode  ...  Bathroom  Car  Landsize  BuildingArea  \\\n",
              "0  3/09/2016       2.5    3067.0  ...       1.0  1.0     126.0           NaN   \n",
              "1  3/12/2016       2.5    3067.0  ...       1.0  1.0     202.0           NaN   \n",
              "2  4/02/2016       2.5    3067.0  ...       1.0  0.0     156.0          79.0   \n",
              "3  4/02/2016       2.5    3067.0  ...       2.0  1.0       0.0           NaN   \n",
              "4  4/03/2017       2.5    3067.0  ...       2.0  0.0     134.0         150.0   \n",
              "\n",
              "   YearBuilt         CouncilArea Lattitude  Longtitude             Regionname  \\\n",
              "0        NaN  Yarra City Council  -37.8014    144.9958  Northern Metropolitan   \n",
              "1        NaN  Yarra City Council  -37.7996    144.9984  Northern Metropolitan   \n",
              "2     1900.0  Yarra City Council  -37.8079    144.9934  Northern Metropolitan   \n",
              "3        NaN  Yarra City Council  -37.8114    145.0116  Northern Metropolitan   \n",
              "4     1900.0  Yarra City Council  -37.8093    144.9944  Northern Metropolitan   \n",
              "\n",
              "  Propertycount  \n",
              "0        4019.0  \n",
              "1        4019.0  \n",
              "2        4019.0  \n",
              "3        4019.0  \n",
              "4        4019.0  \n",
              "\n",
              "[5 rows x 21 columns]"
            ]
          },
          "execution_count": 3,
          "metadata": {},
          "output_type": "execute_result"
        }
      ],
      "source": [
        "data.head()"
      ]
    },
    {
      "cell_type": "code",
      "execution_count": null,
      "metadata": {
        "id": "QGxBANTKDNQV"
      },
      "outputs": [],
      "source": [
        "# Function to fill missing data for our numeric columns using mean\n",
        "def fillmissing(data):\n",
        "  import math\n",
        "  d=math.floor(data.mean())\n",
        "  data.fillna(d,inplace=True)\n",
        "  data = data.astype(int)\n",
        "  print(data.isnull().sum())"
      ]
    },
    {
      "cell_type": "code",
      "execution_count": null,
      "metadata": {
        "id": "54wRSDRtD5YI"
      },
      "outputs": [],
      "source": [
        "# Function to fill missing data for our categorical columns using mode\n",
        "def fillmissing2(data):\n",
        "  d=data.mode()[0]\n",
        "  data.fillna(d,inplace=True)\n",
        "  print(data.isnull().sum())"
      ]
    },
    {
      "cell_type": "code",
      "execution_count": null,
      "metadata": {
        "colab": {
          "base_uri": "https://localhost:8080/"
        },
        "id": "2fVFCRNLNvJ5",
        "outputId": "c6d3e73c-ce86-4356-9570-cf96867dd979"
      },
      "outputs": [
        {
          "data": {
            "text/plain": [
              "Index(['Suburb', 'Address', 'Rooms', 'Type', 'Price', 'Method', 'SellerG',\n",
              "       'Date', 'Distance', 'Postcode', 'Bedroom2', 'Bathroom', 'Car',\n",
              "       'Landsize', 'BuildingArea', 'YearBuilt', 'CouncilArea', 'Lattitude',\n",
              "       'Longtitude', 'Regionname', 'Propertycount'],\n",
              "      dtype='object')"
            ]
          },
          "execution_count": 8,
          "metadata": {},
          "output_type": "execute_result"
        }
      ],
      "source": [
        "data.columns"
      ]
    },
    {
      "cell_type": "code",
      "execution_count": null,
      "metadata": {
        "id": "zuwmd3v1NvM5"
      },
      "outputs": [],
      "source": [
        "lst=['Rooms','Price',\n",
        "       'Distance', 'Postcode', 'Bedroom2', 'Bathroom', 'Car',\n",
        "       'Landsize', 'BuildingArea', 'YearBuilt', 'Lattitude',\n",
        "       'Longtitude','Propertycount']"
      ]
    },
    {
      "cell_type": "code",
      "execution_count": null,
      "metadata": {
        "id": "7lSXFqc7ONnu"
      },
      "outputs": [],
      "source": [
        "lst1=['Suburb', 'Address','Type','Method', 'SellerG',\n",
        "       'Date','CouncilArea','Regionname']"
      ]
    },
    {
      "cell_type": "code",
      "execution_count": null,
      "metadata": {
        "colab": {
          "base_uri": "https://localhost:8080/"
        },
        "id": "VkR3z2ezOnAl",
        "outputId": "0bf00c80-a531-4dad-f44d-1b5e0e6bbfda"
      },
      "outputs": [
        {
          "name": "stdout",
          "output_type": "stream",
          "text": [
            "0\n",
            "0\n",
            "0\n",
            "0\n",
            "0\n",
            "0\n",
            "0\n",
            "0\n"
          ]
        }
      ],
      "source": [
        "for i in lst1:\n",
        "  fillmissing2(data[i])"
      ]
    },
    {
      "cell_type": "code",
      "execution_count": null,
      "metadata": {
        "colab": {
          "base_uri": "https://localhost:8080/"
        },
        "id": "SHVVVfvxNvGb",
        "outputId": "6213a1ad-2add-433d-fdde-f7f811771de5"
      },
      "outputs": [
        {
          "name": "stdout",
          "output_type": "stream",
          "text": [
            "0\n",
            "0\n",
            "0\n",
            "0\n",
            "0\n",
            "0\n",
            "0\n",
            "0\n",
            "0\n",
            "0\n",
            "0\n",
            "0\n",
            "0\n"
          ]
        }
      ],
      "source": [
        "for i in lst:\n",
        "  fillmissing(data[i])"
      ]
    },
    {
      "cell_type": "code",
      "execution_count": null,
      "metadata": {
        "colab": {
          "base_uri": "https://localhost:8080/"
        },
        "id": "F6N9FDiPG_1o",
        "outputId": "e8ecb545-87fb-491a-cd26-2cb27747ad2e"
      },
      "outputs": [
        {
          "data": {
            "text/plain": [
              "Rooms            0.404908\n",
              "Price            1.000000\n",
              "Distance        -0.186847\n",
              "Postcode         0.040511\n",
              "Bedroom2         0.331350\n",
              "Bathroom         0.337517\n",
              "Car              0.176054\n",
              "Landsize         0.026469\n",
              "BuildingArea     0.065321\n",
              "YearBuilt       -0.200594\n",
              "Lattitude       -0.049739\n",
              "Longtitude       0.155606\n",
              "Propertycount   -0.052934\n",
              "Name: Price, dtype: float64"
            ]
          },
          "execution_count": 14,
          "metadata": {},
          "output_type": "execute_result"
        }
      ],
      "source": [
        "# Correlation of our target variable price with other independent variables\n",
        "data[data.columns[1:]].corr()[\"Price\"][:]"
      ]
    },
    {
      "cell_type": "code",
      "execution_count": null,
      "metadata": {
        "id": "iglP8Wr8qYri"
      },
      "outputs": [],
      "source": [
        "# We don't consider the columns Postcode,Landsize,BuildingArea,Lattitude,Propertycount\n",
        "# as they have low correlation wrt to price."
      ]
    },
    {
      "cell_type": "code",
      "execution_count": null,
      "metadata": {
        "colab": {
          "base_uri": "https://localhost:8080/"
        },
        "id": "SwV0tWIlI9UN",
        "outputId": "cd6e6ab1-fc21-4f71-cf66-f427d5072689"
      },
      "outputs": [
        {
          "data": {
            "text/plain": [
              "Index(['Suburb', 'Address', 'Rooms', 'Type', 'Price', 'Method', 'SellerG',\n",
              "       'Date', 'Distance', 'Postcode', 'Bedroom2', 'Bathroom', 'Car',\n",
              "       'Landsize', 'BuildingArea', 'YearBuilt', 'CouncilArea', 'Lattitude',\n",
              "       'Longtitude', 'Regionname', 'Propertycount'],\n",
              "      dtype='object')"
            ]
          },
          "execution_count": 15,
          "metadata": {},
          "output_type": "execute_result"
        }
      ],
      "source": [
        "data.columns"
      ]
    },
    {
      "cell_type": "code",
      "execution_count": null,
      "metadata": {
        "colab": {
          "base_uri": "https://localhost:8080/",
          "height": 676
        },
        "id": "nVAOWci5IYSh",
        "outputId": "53dc7045-66f0-485d-9527-d077a8bfa6d2"
      },
      "outputs": [
        {
          "data": {
            "text/html": [
              "\n",
              "  <div id=\"df-6d3f255f-a0ca-453d-a30c-58ce33ae4cd4\">\n",
              "    <div class=\"colab-df-container\">\n",
              "      <div>\n",
              "<style scoped>\n",
              "    .dataframe tbody tr th:only-of-type {\n",
              "        vertical-align: middle;\n",
              "    }\n",
              "\n",
              "    .dataframe tbody tr th {\n",
              "        vertical-align: top;\n",
              "    }\n",
              "\n",
              "    .dataframe thead th {\n",
              "        text-align: right;\n",
              "    }\n",
              "</style>\n",
              "<table border=\"1\" class=\"dataframe\">\n",
              "  <thead>\n",
              "    <tr style=\"text-align: right;\">\n",
              "      <th></th>\n",
              "      <th>Suburb</th>\n",
              "      <th>Address</th>\n",
              "      <th>Rooms</th>\n",
              "      <th>Type</th>\n",
              "      <th>Price</th>\n",
              "      <th>Method</th>\n",
              "      <th>SellerG</th>\n",
              "      <th>Date</th>\n",
              "      <th>Distance</th>\n",
              "      <th>Bedroom2</th>\n",
              "      <th>Bathroom</th>\n",
              "      <th>Car</th>\n",
              "      <th>YearBuilt</th>\n",
              "      <th>CouncilArea</th>\n",
              "      <th>Longtitude</th>\n",
              "      <th>Regionname</th>\n",
              "    </tr>\n",
              "  </thead>\n",
              "  <tbody>\n",
              "    <tr>\n",
              "      <th>0</th>\n",
              "      <td>Abbotsford</td>\n",
              "      <td>68 Studley St</td>\n",
              "      <td>2</td>\n",
              "      <td>h</td>\n",
              "      <td>1050173.0</td>\n",
              "      <td>SS</td>\n",
              "      <td>Jellis</td>\n",
              "      <td>3/09/2016</td>\n",
              "      <td>2.5</td>\n",
              "      <td>2.0</td>\n",
              "      <td>1.0</td>\n",
              "      <td>1.0</td>\n",
              "      <td>1965.0</td>\n",
              "      <td>Yarra City Council</td>\n",
              "      <td>144.99580</td>\n",
              "      <td>Northern Metropolitan</td>\n",
              "    </tr>\n",
              "    <tr>\n",
              "      <th>1</th>\n",
              "      <td>Abbotsford</td>\n",
              "      <td>85 Turner St</td>\n",
              "      <td>2</td>\n",
              "      <td>h</td>\n",
              "      <td>1480000.0</td>\n",
              "      <td>S</td>\n",
              "      <td>Biggin</td>\n",
              "      <td>3/12/2016</td>\n",
              "      <td>2.5</td>\n",
              "      <td>2.0</td>\n",
              "      <td>1.0</td>\n",
              "      <td>1.0</td>\n",
              "      <td>1965.0</td>\n",
              "      <td>Yarra City Council</td>\n",
              "      <td>144.99840</td>\n",
              "      <td>Northern Metropolitan</td>\n",
              "    </tr>\n",
              "    <tr>\n",
              "      <th>2</th>\n",
              "      <td>Abbotsford</td>\n",
              "      <td>25 Bloomburg St</td>\n",
              "      <td>2</td>\n",
              "      <td>h</td>\n",
              "      <td>1035000.0</td>\n",
              "      <td>S</td>\n",
              "      <td>Biggin</td>\n",
              "      <td>4/02/2016</td>\n",
              "      <td>2.5</td>\n",
              "      <td>2.0</td>\n",
              "      <td>1.0</td>\n",
              "      <td>0.0</td>\n",
              "      <td>1900.0</td>\n",
              "      <td>Yarra City Council</td>\n",
              "      <td>144.99340</td>\n",
              "      <td>Northern Metropolitan</td>\n",
              "    </tr>\n",
              "    <tr>\n",
              "      <th>3</th>\n",
              "      <td>Abbotsford</td>\n",
              "      <td>18/659 Victoria St</td>\n",
              "      <td>3</td>\n",
              "      <td>u</td>\n",
              "      <td>1050173.0</td>\n",
              "      <td>VB</td>\n",
              "      <td>Rounds</td>\n",
              "      <td>4/02/2016</td>\n",
              "      <td>2.5</td>\n",
              "      <td>3.0</td>\n",
              "      <td>2.0</td>\n",
              "      <td>1.0</td>\n",
              "      <td>1965.0</td>\n",
              "      <td>Yarra City Council</td>\n",
              "      <td>145.01160</td>\n",
              "      <td>Northern Metropolitan</td>\n",
              "    </tr>\n",
              "    <tr>\n",
              "      <th>4</th>\n",
              "      <td>Abbotsford</td>\n",
              "      <td>5 Charles St</td>\n",
              "      <td>3</td>\n",
              "      <td>h</td>\n",
              "      <td>1465000.0</td>\n",
              "      <td>SP</td>\n",
              "      <td>Biggin</td>\n",
              "      <td>4/03/2017</td>\n",
              "      <td>2.5</td>\n",
              "      <td>3.0</td>\n",
              "      <td>2.0</td>\n",
              "      <td>0.0</td>\n",
              "      <td>1900.0</td>\n",
              "      <td>Yarra City Council</td>\n",
              "      <td>144.99440</td>\n",
              "      <td>Northern Metropolitan</td>\n",
              "    </tr>\n",
              "    <tr>\n",
              "      <th>...</th>\n",
              "      <td>...</td>\n",
              "      <td>...</td>\n",
              "      <td>...</td>\n",
              "      <td>...</td>\n",
              "      <td>...</td>\n",
              "      <td>...</td>\n",
              "      <td>...</td>\n",
              "      <td>...</td>\n",
              "      <td>...</td>\n",
              "      <td>...</td>\n",
              "      <td>...</td>\n",
              "      <td>...</td>\n",
              "      <td>...</td>\n",
              "      <td>...</td>\n",
              "      <td>...</td>\n",
              "      <td>...</td>\n",
              "    </tr>\n",
              "    <tr>\n",
              "      <th>34852</th>\n",
              "      <td>Yarraville</td>\n",
              "      <td>13 Burns St</td>\n",
              "      <td>4</td>\n",
              "      <td>h</td>\n",
              "      <td>1480000.0</td>\n",
              "      <td>PI</td>\n",
              "      <td>Jas</td>\n",
              "      <td>24/02/2018</td>\n",
              "      <td>6.3</td>\n",
              "      <td>4.0</td>\n",
              "      <td>1.0</td>\n",
              "      <td>3.0</td>\n",
              "      <td>1965.0</td>\n",
              "      <td>Maribyrnong City Council</td>\n",
              "      <td>144.88467</td>\n",
              "      <td>Western Metropolitan</td>\n",
              "    </tr>\n",
              "    <tr>\n",
              "      <th>34853</th>\n",
              "      <td>Yarraville</td>\n",
              "      <td>29A Murray St</td>\n",
              "      <td>2</td>\n",
              "      <td>h</td>\n",
              "      <td>888000.0</td>\n",
              "      <td>SP</td>\n",
              "      <td>Sweeney</td>\n",
              "      <td>24/02/2018</td>\n",
              "      <td>6.3</td>\n",
              "      <td>2.0</td>\n",
              "      <td>2.0</td>\n",
              "      <td>1.0</td>\n",
              "      <td>2018.0</td>\n",
              "      <td>Maribyrnong City Council</td>\n",
              "      <td>144.88826</td>\n",
              "      <td>Western Metropolitan</td>\n",
              "    </tr>\n",
              "    <tr>\n",
              "      <th>34854</th>\n",
              "      <td>Yarraville</td>\n",
              "      <td>147A Severn St</td>\n",
              "      <td>2</td>\n",
              "      <td>t</td>\n",
              "      <td>705000.0</td>\n",
              "      <td>S</td>\n",
              "      <td>Jas</td>\n",
              "      <td>24/02/2018</td>\n",
              "      <td>6.3</td>\n",
              "      <td>2.0</td>\n",
              "      <td>1.0</td>\n",
              "      <td>2.0</td>\n",
              "      <td>2000.0</td>\n",
              "      <td>Maribyrnong City Council</td>\n",
              "      <td>144.87856</td>\n",
              "      <td>Western Metropolitan</td>\n",
              "    </tr>\n",
              "    <tr>\n",
              "      <th>34855</th>\n",
              "      <td>Yarraville</td>\n",
              "      <td>12/37 Stephen St</td>\n",
              "      <td>3</td>\n",
              "      <td>h</td>\n",
              "      <td>1140000.0</td>\n",
              "      <td>SP</td>\n",
              "      <td>hockingstuart</td>\n",
              "      <td>24/02/2018</td>\n",
              "      <td>6.3</td>\n",
              "      <td>3.0</td>\n",
              "      <td>1.0</td>\n",
              "      <td>1.0</td>\n",
              "      <td>1965.0</td>\n",
              "      <td>Maribyrnong City Council</td>\n",
              "      <td>145.00000</td>\n",
              "      <td>Western Metropolitan</td>\n",
              "    </tr>\n",
              "    <tr>\n",
              "      <th>34856</th>\n",
              "      <td>Yarraville</td>\n",
              "      <td>3 Tarrengower St</td>\n",
              "      <td>2</td>\n",
              "      <td>h</td>\n",
              "      <td>1020000.0</td>\n",
              "      <td>PI</td>\n",
              "      <td>RW</td>\n",
              "      <td>24/02/2018</td>\n",
              "      <td>6.3</td>\n",
              "      <td>2.0</td>\n",
              "      <td>1.0</td>\n",
              "      <td>0.0</td>\n",
              "      <td>1930.0</td>\n",
              "      <td>Maribyrnong City Council</td>\n",
              "      <td>144.89351</td>\n",
              "      <td>Western Metropolitan</td>\n",
              "    </tr>\n",
              "  </tbody>\n",
              "</table>\n",
              "<p>34857 rows × 16 columns</p>\n",
              "</div>\n",
              "      <button class=\"colab-df-convert\" onclick=\"convertToInteractive('df-6d3f255f-a0ca-453d-a30c-58ce33ae4cd4')\"\n",
              "              title=\"Convert this dataframe to an interactive table.\"\n",
              "              style=\"display:none;\">\n",
              "        \n",
              "  <svg xmlns=\"http://www.w3.org/2000/svg\" height=\"24px\"viewBox=\"0 0 24 24\"\n",
              "       width=\"24px\">\n",
              "    <path d=\"M0 0h24v24H0V0z\" fill=\"none\"/>\n",
              "    <path d=\"M18.56 5.44l.94 2.06.94-2.06 2.06-.94-2.06-.94-.94-2.06-.94 2.06-2.06.94zm-11 1L8.5 8.5l.94-2.06 2.06-.94-2.06-.94L8.5 2.5l-.94 2.06-2.06.94zm10 10l.94 2.06.94-2.06 2.06-.94-2.06-.94-.94-2.06-.94 2.06-2.06.94z\"/><path d=\"M17.41 7.96l-1.37-1.37c-.4-.4-.92-.59-1.43-.59-.52 0-1.04.2-1.43.59L10.3 9.45l-7.72 7.72c-.78.78-.78 2.05 0 2.83L4 21.41c.39.39.9.59 1.41.59.51 0 1.02-.2 1.41-.59l7.78-7.78 2.81-2.81c.8-.78.8-2.07 0-2.86zM5.41 20L4 18.59l7.72-7.72 1.47 1.35L5.41 20z\"/>\n",
              "  </svg>\n",
              "      </button>\n",
              "      \n",
              "  <style>\n",
              "    .colab-df-container {\n",
              "      display:flex;\n",
              "      flex-wrap:wrap;\n",
              "      gap: 12px;\n",
              "    }\n",
              "\n",
              "    .colab-df-convert {\n",
              "      background-color: #E8F0FE;\n",
              "      border: none;\n",
              "      border-radius: 50%;\n",
              "      cursor: pointer;\n",
              "      display: none;\n",
              "      fill: #1967D2;\n",
              "      height: 32px;\n",
              "      padding: 0 0 0 0;\n",
              "      width: 32px;\n",
              "    }\n",
              "\n",
              "    .colab-df-convert:hover {\n",
              "      background-color: #E2EBFA;\n",
              "      box-shadow: 0px 1px 2px rgba(60, 64, 67, 0.3), 0px 1px 3px 1px rgba(60, 64, 67, 0.15);\n",
              "      fill: #174EA6;\n",
              "    }\n",
              "\n",
              "    [theme=dark] .colab-df-convert {\n",
              "      background-color: #3B4455;\n",
              "      fill: #D2E3FC;\n",
              "    }\n",
              "\n",
              "    [theme=dark] .colab-df-convert:hover {\n",
              "      background-color: #434B5C;\n",
              "      box-shadow: 0px 1px 3px 1px rgba(0, 0, 0, 0.15);\n",
              "      filter: drop-shadow(0px 1px 2px rgba(0, 0, 0, 0.3));\n",
              "      fill: #FFFFFF;\n",
              "    }\n",
              "  </style>\n",
              "\n",
              "      <script>\n",
              "        const buttonEl =\n",
              "          document.querySelector('#df-6d3f255f-a0ca-453d-a30c-58ce33ae4cd4 button.colab-df-convert');\n",
              "        buttonEl.style.display =\n",
              "          google.colab.kernel.accessAllowed ? 'block' : 'none';\n",
              "\n",
              "        async function convertToInteractive(key) {\n",
              "          const element = document.querySelector('#df-6d3f255f-a0ca-453d-a30c-58ce33ae4cd4');\n",
              "          const dataTable =\n",
              "            await google.colab.kernel.invokeFunction('convertToInteractive',\n",
              "                                                     [key], {});\n",
              "          if (!dataTable) return;\n",
              "\n",
              "          const docLinkHtml = 'Like what you see? Visit the ' +\n",
              "            '<a target=\"_blank\" href=https://colab.research.google.com/notebooks/data_table.ipynb>data table notebook</a>'\n",
              "            + ' to learn more about interactive tables.';\n",
              "          element.innerHTML = '';\n",
              "          dataTable['output_type'] = 'display_data';\n",
              "          await google.colab.output.renderOutput(dataTable, element);\n",
              "          const docLink = document.createElement('div');\n",
              "          docLink.innerHTML = docLinkHtml;\n",
              "          element.appendChild(docLink);\n",
              "        }\n",
              "      </script>\n",
              "    </div>\n",
              "  </div>\n",
              "  "
            ],
            "text/plain": [
              "           Suburb             Address  Rooms Type      Price Method  \\\n",
              "0      Abbotsford       68 Studley St      2    h  1050173.0     SS   \n",
              "1      Abbotsford        85 Turner St      2    h  1480000.0      S   \n",
              "2      Abbotsford     25 Bloomburg St      2    h  1035000.0      S   \n",
              "3      Abbotsford  18/659 Victoria St      3    u  1050173.0     VB   \n",
              "4      Abbotsford        5 Charles St      3    h  1465000.0     SP   \n",
              "...           ...                 ...    ...  ...        ...    ...   \n",
              "34852  Yarraville         13 Burns St      4    h  1480000.0     PI   \n",
              "34853  Yarraville       29A Murray St      2    h   888000.0     SP   \n",
              "34854  Yarraville      147A Severn St      2    t   705000.0      S   \n",
              "34855  Yarraville    12/37 Stephen St      3    h  1140000.0     SP   \n",
              "34856  Yarraville    3 Tarrengower St      2    h  1020000.0     PI   \n",
              "\n",
              "             SellerG        Date  Distance  Bedroom2  Bathroom  Car  \\\n",
              "0             Jellis   3/09/2016       2.5       2.0       1.0  1.0   \n",
              "1             Biggin   3/12/2016       2.5       2.0       1.0  1.0   \n",
              "2             Biggin   4/02/2016       2.5       2.0       1.0  0.0   \n",
              "3             Rounds   4/02/2016       2.5       3.0       2.0  1.0   \n",
              "4             Biggin   4/03/2017       2.5       3.0       2.0  0.0   \n",
              "...              ...         ...       ...       ...       ...  ...   \n",
              "34852            Jas  24/02/2018       6.3       4.0       1.0  3.0   \n",
              "34853        Sweeney  24/02/2018       6.3       2.0       2.0  1.0   \n",
              "34854            Jas  24/02/2018       6.3       2.0       1.0  2.0   \n",
              "34855  hockingstuart  24/02/2018       6.3       3.0       1.0  1.0   \n",
              "34856             RW  24/02/2018       6.3       2.0       1.0  0.0   \n",
              "\n",
              "       YearBuilt               CouncilArea  Longtitude             Regionname  \n",
              "0         1965.0        Yarra City Council   144.99580  Northern Metropolitan  \n",
              "1         1965.0        Yarra City Council   144.99840  Northern Metropolitan  \n",
              "2         1900.0        Yarra City Council   144.99340  Northern Metropolitan  \n",
              "3         1965.0        Yarra City Council   145.01160  Northern Metropolitan  \n",
              "4         1900.0        Yarra City Council   144.99440  Northern Metropolitan  \n",
              "...          ...                       ...         ...                    ...  \n",
              "34852     1965.0  Maribyrnong City Council   144.88467   Western Metropolitan  \n",
              "34853     2018.0  Maribyrnong City Council   144.88826   Western Metropolitan  \n",
              "34854     2000.0  Maribyrnong City Council   144.87856   Western Metropolitan  \n",
              "34855     1965.0  Maribyrnong City Council   145.00000   Western Metropolitan  \n",
              "34856     1930.0  Maribyrnong City Council   144.89351   Western Metropolitan  \n",
              "\n",
              "[34857 rows x 16 columns]"
            ]
          },
          "execution_count": 16,
          "metadata": {},
          "output_type": "execute_result"
        }
      ],
      "source": [
        "df=data[['Suburb', 'Address', 'Rooms', 'Type', 'Price', 'Method', 'SellerG',\n",
        "       'Date', 'Distance','Bedroom2', 'Bathroom', 'Car','YearBuilt', 'CouncilArea',\n",
        "       'Longtitude', 'Regionname']]\n",
        "df"
      ]
    },
    {
      "cell_type": "code",
      "execution_count": null,
      "metadata": {
        "colab": {
          "base_uri": "https://localhost:8080/"
        },
        "id": "RDVhnA5uJP2f",
        "outputId": "aa650758-d4e4-4d70-d79b-9b9a41632f0f"
      },
      "outputs": [
        {
          "name": "stdout",
          "output_type": "stream",
          "text": [
            "<class 'pandas.core.frame.DataFrame'>\n",
            "RangeIndex: 34857 entries, 0 to 34856\n",
            "Data columns (total 16 columns):\n",
            " #   Column       Non-Null Count  Dtype  \n",
            "---  ------       --------------  -----  \n",
            " 0   Suburb       34857 non-null  object \n",
            " 1   Address      34857 non-null  object \n",
            " 2   Rooms        34857 non-null  int64  \n",
            " 3   Type         34857 non-null  object \n",
            " 4   Price        34857 non-null  float64\n",
            " 5   Method       34857 non-null  object \n",
            " 6   SellerG      34857 non-null  object \n",
            " 7   Date         34857 non-null  object \n",
            " 8   Distance     34857 non-null  float64\n",
            " 9   Bedroom2     34857 non-null  float64\n",
            " 10  Bathroom     34857 non-null  float64\n",
            " 11  Car          34857 non-null  float64\n",
            " 12  YearBuilt    34857 non-null  float64\n",
            " 13  CouncilArea  34857 non-null  object \n",
            " 14  Longtitude   34857 non-null  float64\n",
            " 15  Regionname   34857 non-null  object \n",
            "dtypes: float64(7), int64(1), object(8)\n",
            "memory usage: 4.3+ MB\n"
          ]
        }
      ],
      "source": [
        "df.info()"
      ]
    },
    {
      "cell_type": "code",
      "execution_count": null,
      "metadata": {
        "id": "nLJ-CXhKJ-uE"
      },
      "outputs": [],
      "source": [
        "dfc=['Rooms','Price','Distance', 'Bedroom2', 'Bathroom', 'Car', 'YearBuilt',\n",
        "      'Longtitude']"
      ]
    },
    {
      "cell_type": "code",
      "execution_count": null,
      "metadata": {
        "id": "kEkqu2vdJT9h"
      },
      "outputs": [],
      "source": [
        "for i in dfc:\n",
        "  df[i]=df[i].astype(int)\n"
      ]
    },
    {
      "cell_type": "code",
      "execution_count": null,
      "metadata": {
        "colab": {
          "base_uri": "https://localhost:8080/"
        },
        "id": "cneus_lOKtr7",
        "outputId": "b3f0d406-8b53-4a46-c6a3-46e3a7dc31de"
      },
      "outputs": [
        {
          "data": {
            "text/plain": [
              "Suburb         object\n",
              "Address        object\n",
              "Rooms           int64\n",
              "Type           object\n",
              "Price           int64\n",
              "Method         object\n",
              "SellerG        object\n",
              "Date           object\n",
              "Distance        int64\n",
              "Bedroom2        int64\n",
              "Bathroom        int64\n",
              "Car             int64\n",
              "YearBuilt       int64\n",
              "CouncilArea    object\n",
              "Longtitude      int64\n",
              "Regionname     object\n",
              "dtype: object"
            ]
          },
          "execution_count": 21,
          "metadata": {},
          "output_type": "execute_result"
        }
      ],
      "source": [
        "df.dtypes"
      ]
    },
    {
      "cell_type": "code",
      "execution_count": null,
      "metadata": {
        "id": "WouIoKJgHGCB"
      },
      "outputs": [],
      "source": [
        "# Function to check for outliers and finding the upper and lower bound\n",
        "# using quartiles method\n",
        "def outliers(data):\n",
        "    sns.boxplot(data)\n",
        "    plt.show()\n",
        "    import math\n",
        "    q1 = data.quantile(0.25)\n",
        "    q3 = data.quantile(0.75)\n",
        "    iqr = q3 - q1\n",
        "    upper = math.floor(q3 + 1.5*iqr)\n",
        "    lower = math.floor(q1 - 1.5*iqr)\n",
        "    return (upper,lower)"
      ]
    },
    {
      "cell_type": "code",
      "execution_count": null,
      "metadata": {
        "id": "9DAXPyaqHbUP"
      },
      "outputs": [],
      "source": [
        "# Function to remove the outliers by using capping method\n",
        "data1=df.copy()\n",
        "def remove_outliers(data,upper,lower):\n",
        "    data1 = (np.where(data1>=upper,upper,data1))\n",
        "    data1 = (np.where(data1<= lower,lower,data1))\n",
        "    sns.boxplot(data1)\n",
        "    plt.show()\n",
        ""
      ]
    },
    {
      "cell_type": "code",
      "execution_count": null,
      "metadata": {
        "colab": {
          "base_uri": "https://localhost:8080/",
          "height": 1000
        },
        "id": "InTlG3JwM78F",
        "outputId": "dd80f78f-b6c0-4820-ddd9-216342be6dcb"
      },
      "outputs": [
        {
          "data": {
            "image/png": "[encoded data removed]",
            "text/plain": [
              "<Figure size 432x288 with 1 Axes>"
            ]
          },
          "metadata": {
            "needs_background": "light"
          },
          "output_type": "display_data"
        },
        {
          "data": {
            "image/png": "[encoded data removed]",
            "text/plain": [
              "<Figure size 432x288 with 1 Axes>"
            ]
          },
          "metadata": {
            "needs_background": "light"
          },
          "output_type": "display_data"
        },
        {
          "name": "stdout",
          "output_type": "stream",
          "text": [
            "*****************\n"
          ]
        },
        {
          "data": {
            "image/png": "[encoded data removed]",
            "text/plain": [
              "<Figure size 432x288 with 1 Axes>"
            ]
          },
          "metadata": {
            "needs_background": "light"
          },
          "output_type": "display_data"
        },
        {
          "data": {
            "image/png": "[encoded data removed]",
            "text/plain": [
              "<Figure size 432x288 with 1 Axes>"
            ]
          },
          "metadata": {
            "needs_background": "light"
          },
          "output_type": "display_data"
        },
        {
          "name": "stdout",
          "output_type": "stream",
          "text": [
            "*****************\n"
          ]
        },
        {
          "data": {
            "image/png": "[encoded data removed]",
            "text/plain": [
              "<Figure size 432x288 with 1 Axes>"
            ]
          },
          "metadata": {
            "needs_background": "light"
          },
          "output_type": "display_data"
        },
        {
          "data": {
            "image/png": "[encoded data removed]",
            "text/plain": [
              "<Figure size 432x288 with 1 Axes>"
            ]
          },
          "metadata": {
            "needs_background": "light"
          },
          "output_type": "display_data"
        },
        {
          "name": "stdout",
          "output_type": "stream",
          "text": [
            "*****************\n"
          ]
        },
        {
          "data": {
            "image/png": "[encoded data removed]",
            "text/plain": [
              "<Figure size 432x288 with 1 Axes>"
            ]
          },
          "metadata": {
            "needs_background": "light"
          },
          "output_type": "display_data"
        },
        {
          "data": {
            "image/png": "[encoded data removed]",
            "text/plain": [
              "<Figure size 432x288 with 1 Axes>"
            ]
          },
          "metadata": {
            "needs_background": "light"
          },
          "output_type": "display_data"
        },
        {
          "name": "stdout",
          "output_type": "stream",
          "text": [
            "*****************\n"
          ]
        },
        {
          "data": {
            "image/png": "[encoded data removed]",
            "text/plain": [
              "<Figure size 432x288 with 1 Axes>"
            ]
          },
          "metadata": {
            "needs_background": "light"
          },
          "output_type": "display_data"
        },
        {
          "data": {
            "image/png": "[encoded data removed]",
            "text/plain": [
              "<Figure size 432x288 with 1 Axes>"
            ]
          },
          "metadata": {
            "needs_background": "light"
          },
          "output_type": "display_data"
        },
        {
          "name": "stdout",
          "output_type": "stream",
          "text": [
            "*****************\n"
          ]
        },
        {
          "data": {
            "image/png": "[encoded data removed]",
            "text/plain": [
              "<Figure size 432x288 with 1 Axes>"
            ]
          },
          "metadata": {
            "needs_background": "light"
          },
          "output_type": "display_data"
        },
        {
          "data": {
            "image/png": "[encoded data removed]",
            "text/plain": [
              "<Figure size 432x288 with 1 Axes>"
            ]
          },
          "metadata": {
            "needs_background": "light"
          },
          "output_type": "display_data"
        },
        {
          "name": "stdout",
          "output_type": "stream",
          "text": [
            "*****************\n"
          ]
        },
        {
          "data": {
            "image/png": "[encoded data removed]",
            "text/plain": [
              "<Figure size 432x288 with 1 Axes>"
            ]
          },
          "metadata": {
            "needs_background": "light"
          },
          "output_type": "display_data"
        },
        {
          "data": {
            "image/png": "[encoded data removed]",
            "text/plain": [
              "<Figure size 432x288 with 1 Axes>"
            ]
          },
          "metadata": {
            "needs_background": "light"
          },
          "output_type": "display_data"
        },
        {
          "name": "stdout",
          "output_type": "stream",
          "text": [
            "*****************\n"
          ]
        }
      ],
      "source": [
        "dfc=['Rooms','Distance', 'Bedroom2', 'Bathroom', 'Car', 'YearBuilt',\n",
        "      'Longtitude']\n",
        "for i in dfc:\n",
        "  a=outliers(df[i])\n",
        "  u=a[0]\n",
        "  l=abs(a[1])\n",
        "  remove_outliers(df[i],u,l)\n",
        "  print(\"*****************\")"
      ]
    },
    {
      "cell_type": "code",
      "execution_count": null,
      "metadata": {
        "id": "bWq8M4_IHdd6"
      },
      "outputs": [],
      "source": [
        "# Function to find outliers using Z score method\n",
        "def outliers1(data):\n",
        "    sns.boxplot(data)\n",
        "    plt.show()\n",
        "    import math\n",
        "    u1=data.mean() + 3*data.std()\n",
        "    l1= data.mean() - 3*data.std()\n",
        "    u = math.floor(u1)\n",
        "    l=math.floor(l1)\n",
        "    return (u,l)"
      ]
    },
    {
      "cell_type": "code",
      "execution_count": null,
      "metadata": {
        "colab": {
          "base_uri": "https://localhost:8080/",
          "height": 279
        },
        "id": "GWMrwZHwTNu5",
        "outputId": "aeced1a5-8b4b-4ea7-84df-6aae143e08f7"
      },
      "outputs": [
        {
          "data": {
            "image/png": "[encoded data removed]",
            "text/plain": [
              "<Figure size 432x288 with 1 Axes>"
            ]
          },
          "metadata": {
            "needs_background": "light"
          },
          "output_type": "display_data"
        }
      ],
      "source": [
        "u,l=outliers1(df[\"Price\"])"
      ]
    },
    {
      "cell_type": "code",
      "execution_count": null,
      "metadata": {
        "colab": {
          "base_uri": "https://localhost:8080/",
          "height": 278
        },
        "id": "oMNcLJp-VD-n",
        "outputId": "bfe21045-e62e-427a-fa10-39a4cdbacd57"
      },
      "outputs": [
        {
          "data": {
            "image/png": "[encoded data removed]",
            "text/plain": [
              "<Figure size 432x288 with 1 Axes>"
            ]
          },
          "metadata": {
            "needs_background": "light"
          },
          "output_type": "display_data"
        }
      ],
      "source": [
        "remove_outliers(df[\"Price\"],u,l)"
      ]
    },
    {
      "cell_type": "code",
      "execution_count": null,
      "metadata": {
        "colab": {
          "base_uri": "https://localhost:8080/",
          "height": 1000
        },
        "id": "sJaihfd2VcGD",
        "outputId": "f5071db5-b8fd-4d86-ec3e-8654d64ef52d"
      },
      "outputs": [
        {
          "name": "stdout",
          "output_type": "stream",
          "text": [
            "Countplot of Rooms\n"
          ]
        },
        {
          "data": {
            "image/png": "[encoded data removed]",
            "text/plain": [
              "<Figure size 720x360 with 1 Axes>"
            ]
          },
          "metadata": {
            "needs_background": "light"
          },
          "output_type": "display_data"
        },
        {
          "name": "stdout",
          "output_type": "stream",
          "text": [
            "****************\n",
            "Countplot of Distance\n"
          ]
        },
        {
          "data": {
            "image/png": "[encoded data removed]",
            "text/plain": [
              "<Figure size 720x360 with 1 Axes>"
            ]
          },
          "metadata": {
            "needs_background": "light"
          },
          "output_type": "display_data"
        },
        {
          "name": "stdout",
          "output_type": "stream",
          "text": [
            "****************\n",
            "Countplot of Bedroom2\n"
          ]
        },
        {
          "data": {
            "image/png": "[encoded data removed]",
            "text/plain": [
              "<Figure size 720x360 with 1 Axes>"
            ]
          },
          "metadata": {
            "needs_background": "light"
          },
          "output_type": "display_data"
        },
        {
          "name": "stdout",
          "output_type": "stream",
          "text": [
            "****************\n",
            "Countplot of Bathroom\n"
          ]
        },
        {
          "data": {
            "image/png": "[encoded data removed]",
            "text/plain": [
              "<Figure size 720x360 with 1 Axes>"
            ]
          },
          "metadata": {
            "needs_background": "light"
          },
          "output_type": "display_data"
        },
        {
          "name": "stdout",
          "output_type": "stream",
          "text": [
            "****************\n",
            "Countplot of Car\n"
          ]
        },
        {
          "data": {
            "image/png": "[encoded data removed]",
            "text/plain": [
              "<Figure size 720x360 with 1 Axes>"
            ]
          },
          "metadata": {
            "needs_background": "light"
          },
          "output_type": "display_data"
        },
        {
          "name": "stdout",
          "output_type": "stream",
          "text": [
            "****************\n",
            "Countplot of Longtitude\n"
          ]
        },
        {
          "data": {
            "image/png": "[encoded data removed]",
            "text/plain": [
              "<Figure size 720x360 with 1 Axes>"
            ]
          },
          "metadata": {
            "needs_background": "light"
          },
          "output_type": "display_data"
        },
        {
          "name": "stdout",
          "output_type": "stream",
          "text": [
            "****************\n"
          ]
        }
      ],
      "source": [
        "dfc1=['Rooms','Distance', 'Bedroom2', 'Bathroom', 'Car',\n",
        "      'Longtitude']\n",
        "for i in dfc1:\n",
        "\n",
        "  print(\"Countplot of\",i)\n",
        "  plt.figure(figsize=(10,5))\n",
        "  sns.countplot(df[i])\n",
        "\n",
        "  plt.xticks(fontsize=5, rotation=90)\n",
        "  plt.show()\n",
        "  print(\"****************\")"
      ]
    },
    {
      "cell_type": "code",
      "execution_count": null,
      "metadata": {
        "colab": {
          "base_uri": "https://localhost:8080/",
          "height": 307
        },
        "id": "Q0Fo6kA1cNls",
        "outputId": "bfee2af0-96ef-43e9-c0d0-101cd39560fa"
      },
      "outputs": [
        {
          "data": {
            "text/plain": [
              "<matplotlib.axes._subplots.AxesSubplot at 0x7f5ce5c714d0>"
            ]
          },
          "execution_count": 29,
          "metadata": {},
          "output_type": "execute_result"
        },
        {
          "data": {
            "image/png": "[encoded data removed]",
            "text/plain": [
              "<Figure size 432x288 with 1 Axes>"
            ]
          },
          "metadata": {
            "needs_background": "light"
          },
          "output_type": "display_data"
        }
      ],
      "source": [
        "sns.distplot(df[\"Price\"],kde=True)"
      ]
    },
    {
      "cell_type": "code",
      "execution_count": null,
      "metadata": {
        "id": "n0LYNh5Acsbf"
      },
      "outputs": [],
      "source": [
        "# Selecting our required features\n",
        "features=['Rooms','Distance', 'Bedroom2', 'Bathroom', 'Car', 'YearBuilt',\n",
        "      'Longtitude']\n",
        "x=data1.loc[:,features]\n",
        "y=data1.loc[:,'Price']"
      ]
    },
    {
      "cell_type": "code",
      "execution_count": null,
      "metadata": {
        "id": "X57rQRdldm6v"
      },
      "outputs": [],
      "source": [
        "# Splitting the data into train and test set\n",
        "X_train,X_test,y_train,y_test = train_test_split(x,y,test_size=0.30)"
      ]
    },
    {
      "cell_type": "code",
      "execution_count": null,
      "metadata": {
        "colab": {
          "base_uri": "https://localhost:8080/",
          "height": 577
        },
        "id": "1VWGiPl-iitr",
        "outputId": "f66f2110-7577-41be-c831-0dc1009f663e"
      },
      "outputs": [
        {
          "name": "stdout",
          "output_type": "stream",
          "text": [
            "\n",
            "The RMSE Value for train dataset is 471919.72\n",
            "\n",
            "The RMSE Value for test dataset is 445207.32\n",
            "\n",
            "R square :  0.34\n"
          ]
        },
        {
          "data": {
            "image/png": "[encoded data removed]",
            "text/plain": [
              "<Figure size 720x504 with 1 Axes>"
            ]
          },
          "metadata": {
            "needs_background": "light"
          },
          "output_type": "display_data"
        }
      ],
      "source": [
        "# Fitting of regression model\n",
        "reg=LinearRegression(fit_intercept=True,normalize=True)\n",
        "r=reg.fit(X_train,y_train)\n",
        "y_pred=reg.predict(X_test)\n",
        "r_pred_train=(reg.predict(X_train))\n",
        "print(\"\\nThe RMSE Value for train dataset is\",round(np.sqrt(\n",
        "    mean_squared_error(y_train,r_pred_train)),2))\n",
        "print(\"\\nThe RMSE Value for test dataset is\",round(np.sqrt(\n",
        "    mean_squared_error(y_test,y_pred)),2))\n",
        "print(\"\\nR square : \",round(r2_score(y_test,y_pred),2))\n",
        "plt.figure(figsize=(10,7))\n",
        "sns.regplot(x=y_test,y=y_pred,ci=None,color ='black')\n",
        "plt.title(\"\\nRegression Plot\")\n",
        "plt.show()"
      ]
    },
    {
      "cell_type": "code",
      "execution_count": null,
      "metadata": {
        "colab": {
          "base_uri": "https://localhost:8080/",
          "height": 385
        },
        "id": "veOUApLldxoG",
        "outputId": "a9ea46fc-eb01-413d-a62e-3137aa8d2496"
      },
      "outputs": [
        {
          "data": {
            "image/png": "[encoded data removed]",
            "text/plain": [
              "<Figure size 576x360 with 1 Axes>"
            ]
          },
          "metadata": {
            "needs_background": "light"
          },
          "output_type": "display_data"
        },
        {
          "name": "stdout",
          "output_type": "stream",
          "text": [
            "\n",
            "R square :  0.34\n"
          ]
        }
      ],
      "source": [
        "# Using Lasso regularization\n",
        "l=Lasso(alpha=0.03)\n",
        "l.fit(X_train, y_train)\n",
        "l_pred_train=l.predict(X_train)\n",
        "l_pred=l.predict(X_test)\n",
        "plt.figure(figsize=(8,5))\n",
        "plt.title(\"Regression Plot For Lasso regularization\")\n",
        "sns.regplot(x=y_test,y=l_pred,ci=None,color ='red')\n",
        "plt.show()\n",
        "\n",
        "print(\"\\nR square : \",round(r2_score(y_test,l_pred),2))"
      ]
    },
    {
      "cell_type": "code",
      "execution_count": null,
      "metadata": {
        "colab": {
          "base_uri": "https://localhost:8080/",
          "height": 493
        },
        "id": "fcQu-SqReBOp",
        "outputId": "a526667e-bdc5-4317-90da-f9780653232d"
      },
      "outputs": [
        {
          "data": {
            "image/png": "[encoded data removed]",
            "text/plain": [
              "<Figure size 720x504 with 1 Axes>"
            ]
          },
          "metadata": {
            "needs_background": "light"
          },
          "output_type": "display_data"
        },
        {
          "name": "stdout",
          "output_type": "stream",
          "text": [
            "\n",
            "R square :  0.34\n"
          ]
        }
      ],
      "source": [
        "# Using Ridge regularization\n",
        "m=Ridge(alpha=0.01)\n",
        "m.fit(X_train , y_train)\n",
        "m_pred_train=m.predict(X_train)\n",
        "m_pred=m.predict(X_test)\n",
        "plt.figure(figsize=(10,7))\n",
        "plt.title(\"Regression Plot For Ridge regularization\")\n",
        "sns.regplot(x=y_test,y=m_pred,ci=None,color ='green')\n",
        "plt.show()\n",
        "\n",
        "print(\"\\nR square : \",round(r2_score(y_test,m_pred),2))"
      ]
    },
    {
      "cell_type": "markdown",
      "source": [
        "# Conclusion\n",
        "\n",
        "### We see that the difference in our model's train and test error is minimum therefore our model is balanced.\n",
        "### Since our linear regression model is balanced therefore there is no difference in score for our model after Lasso and ridge regularizations.\n",
        "### We also observe that the R square is 0.34 that is our model expalin only 34% of variability of our target variable.\n",
        "### Compared to our model with outliers our model without outliers has better r square but even 0.34 is very little so we might have to further optimize our model by better feature slection or using different model like SVM and check the accuracy."
      ],
      "metadata": {
        "id": "YG6cmaBkJfue"
      }
    },
    {
      "cell_type": "code",
      "source": [],
      "metadata": {
        "id": "bgCaKqvIJs2-"
      },
      "execution_count": null,
      "outputs": []
    }
  ],
  "metadata": {
    "colab": {
      "provenance": []
    },
    "kernelspec": {
      "display_name": "Python 3 (ipykernel)",
      "language": "python",
      "name": "python3"
    },
    "language_info": {
      "codemirror_mode": {
        "name": "ipython",
        "version": 3
      },
      "file_extension": ".py",
      "mimetype": "text/x-python",
      "name": "python",
      "nbconvert_exporter": "python",
      "pygments_lexer": "ipython3",
      "version": "3.9.12"
    }
  },
  "nbformat": 4,
  "nbformat_minor": 0
}