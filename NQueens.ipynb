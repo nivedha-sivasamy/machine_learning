{
  "cells": [
    {
      "cell_type": "markdown",
      "metadata": {
        "id": "3cWP3yw24Ymm"
      },
      "source": [
        "# N-Queens Problem\n",
        "\n",
        "## Aim\n",
        "To find the optimal solution to place N queens in a N*N chessboard without the queens clashing eachother either vertically, horizontally or diagonally.\n",
        "\n"
      ]
    },
    {
      "cell_type": "code",
      "execution_count": null,
      "metadata": {
        "colab": {
          "base_uri": "https://localhost:8080/"
        },
        "id": "McR82ienI2fL",
        "outputId": "58760452-bd8a-41ee-d86f-fda71fce0868"
      },
      "outputs": [
        {
          "name": "stdout",
          "output_type": "stream",
          "text": [
            "Enter the number of Queens : 4\n",
            "[– Q – –]\n",
            "[– – – Q]\n",
            "[Q – – –]\n",
            "[– – Q –]\n",
            "\n",
            "[– – Q –]\n",
            "[Q – – –]\n",
            "[– – – Q]\n",
            "[– Q – –]\n",
            "\n"
          ]
        }
      ],
      "source": [
        "# Program for n_queens problem\n",
        "\n",
        "\n",
        "# Function to check if two queens threaten each other or not\n",
        "def no_attack(mat, r, c):\n",
        "\n",
        "    # return false if two queens share the same column\n",
        "    for i in range(r):\n",
        "        if mat[i][c] == 'Q':\n",
        "            return False\n",
        "\n",
        "    # return false if two queens share the same `\\` diagonal\n",
        "    (i, j) = (r, c)\n",
        "    while i >= 0 and j >= 0:\n",
        "        if mat[i][j] == 'Q':\n",
        "            return False\n",
        "        i = i - 1\n",
        "        j = j - 1\n",
        "\n",
        "    # return false if two queens share the same `/` diagonal\n",
        "    (i, j) = (r, c)\n",
        "    while i >= 0 and j < len(mat):\n",
        "        if mat[i][j] == 'Q':\n",
        "            return False\n",
        "        i = i - 1\n",
        "        j = j + 1\n",
        "\n",
        "    return True\n",
        "\n",
        "\n",
        "def printSolution(mat):\n",
        "  for r in mat:\n",
        "    print(str(r).replace(',', '').replace('\\'', ''))\n",
        "  print()\n",
        "\n",
        "\n",
        "def nQueen(mat, r):\n",
        "\n",
        "    # if `N` queens are placed successfully, print the solution\n",
        "    if r == len(mat):\n",
        "        printSolution(mat)\n",
        "        return\n",
        "\n",
        "    # place queen at every square in the current row `r`\n",
        "    # and recur for each valid movement\n",
        "    for i in range(len(mat)):\n",
        "\n",
        "        # if no two queens threaten each other\n",
        "        if no_attack(mat, r, i):\n",
        "            # place queen on the current square\n",
        "            mat[r][i] = 'Q'\n",
        "\n",
        "            # recur for the next row\n",
        "            nQueen(mat, r + 1)\n",
        "\n",
        "            # backtrack and remove the queen from the current square\n",
        "            mat[r][i] = '–'\n",
        "\n",
        "\n",
        "N=int(input(\"Enter the number of Queens : \"))\n",
        "mat = [['–' for x in range(N)] for y in range(N)]\n",
        "nQueen(mat, 0)"
      ]
    },
    {
      "cell_type": "code",
      "execution_count": null,
      "metadata": {
        "id": "Be3KbixeAeJz"
      },
      "outputs": [],
      "source": [
        "# Using this algorithm we have 2 optimal solutions of arranging the 4 queens such that they donot clash\n",
        "# i.e attack each other horizontally, vertically or diagonaly."
      ]
    }
  ],
  "metadata": {
    "colab": {
      "provenance": []
    },
    "kernelspec": {
      "display_name": "Python 3 (ipykernel)",
      "language": "python",
      "name": "python3"
    },
    "language_info": {
      "codemirror_mode": {
        "name": "ipython",
        "version": 3
      },
      "file_extension": ".py",
      "mimetype": "text/x-python",
      "name": "python",
      "nbconvert_exporter": "python",
      "pygments_lexer": "ipython3",
      "version": "3.9.12"
    }
  },
  "nbformat": 4,
  "nbformat_minor": 0
}