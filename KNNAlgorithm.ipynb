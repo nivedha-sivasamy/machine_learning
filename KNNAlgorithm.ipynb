{
  "cells": [
    {
      "cell_type": "markdown",
      "metadata": {
        "id": "Swt7cTGRf4_B"
      },
      "source": [
        "# K Nearest Neighbors Classifiers**\n",
        "\n",
        "## Aim\n",
        "To classify the Iris flower into 3 different species\n",
        "\n",
        "## Dataset\n",
        "Iris Dataset\n",
        "\n",
        "## Source\n",
        "Kaggle"
      ]
    },
    {
      "cell_type": "code",
      "execution_count": null,
      "metadata": {
        "id": "Nx2Bo6ZFGe4Z"
      },
      "outputs": [],
      "source": [
        "# Importing required packages\n",
        "import numpy as np\n",
        "import pandas as pd\n",
        "from sklearn.neighbors import KNeighborsClassifier\n",
        "from sklearn.model_selection import train_test_split\n",
        "from sklearn import metrics\n",
        "from sklearn.metrics import plot_confusion_matrix,accuracy_score,classification_report\n",
        "import seaborn as sns\n",
        "import matplotlib.pyplot as plt\n",
        "from sklearn.model_selection import GridSearchCV\n",
        "import warnings\n",
        "warnings.filterwarnings(\"ignore\")"
      ]
    },
    {
      "cell_type": "code",
      "execution_count": null,
      "metadata": {
        "id": "CEcRa0pZGwgW"
      },
      "outputs": [],
      "source": [
        "# Loading dataset\n",
        "data=pd.read_csv(\"/content/drive/MyDrive/Iris.csv\")"
      ]
    },
    {
      "cell_type": "code",
      "execution_count": null,
      "metadata": {
        "colab": {
          "base_uri": "https://localhost:8080/",
          "height": 204
        },
        "id": "IecZFmdGHjaq",
        "outputId": "ff7bfa59-1806-459e-a623-0d5c14880989"
      },
      "outputs": [
        {
          "data": {
            "text/html": [
              "\n",
              "  <div id=\"df-8887fdd7-fd35-4834-8769-3ed8bc5c9b45\">\n",
              "    <div class=\"colab-df-container\">\n",
              "      <div>\n",
              "<style scoped>\n",
              "    .dataframe tbody tr th:only-of-type {\n",
              "        vertical-align: middle;\n",
              "    }\n",
              "\n",
              "    .dataframe tbody tr th {\n",
              "        vertical-align: top;\n",
              "    }\n",
              "\n",
              "    .dataframe thead th {\n",
              "        text-align: right;\n",
              "    }\n",
              "</style>\n",
              "<table border=\"1\" class=\"dataframe\">\n",
              "  <thead>\n",
              "    <tr style=\"text-align: right;\">\n",
              "      <th></th>\n",
              "      <th>Id</th>\n",
              "      <th>SepalLengthCm</th>\n",
              "      <th>SepalWidthCm</th>\n",
              "      <th>PetalLengthCm</th>\n",
              "      <th>PetalWidthCm</th>\n",
              "      <th>Species</th>\n",
              "    </tr>\n",
              "  </thead>\n",
              "  <tbody>\n",
              "    <tr>\n",
              "      <th>0</th>\n",
              "      <td>1</td>\n",
              "      <td>5.1</td>\n",
              "      <td>3.5</td>\n",
              "      <td>1.4</td>\n",
              "      <td>0.2</td>\n",
              "      <td>Iris-setosa</td>\n",
              "    </tr>\n",
              "    <tr>\n",
              "      <th>1</th>\n",
              "      <td>2</td>\n",
              "      <td>4.9</td>\n",
              "      <td>3.0</td>\n",
              "      <td>1.4</td>\n",
              "      <td>0.2</td>\n",
              "      <td>Iris-setosa</td>\n",
              "    </tr>\n",
              "    <tr>\n",
              "      <th>2</th>\n",
              "      <td>3</td>\n",
              "      <td>4.7</td>\n",
              "      <td>3.2</td>\n",
              "      <td>1.3</td>\n",
              "      <td>0.2</td>\n",
              "      <td>Iris-setosa</td>\n",
              "    </tr>\n",
              "    <tr>\n",
              "      <th>3</th>\n",
              "      <td>4</td>\n",
              "      <td>4.6</td>\n",
              "      <td>3.1</td>\n",
              "      <td>1.5</td>\n",
              "      <td>0.2</td>\n",
              "      <td>Iris-setosa</td>\n",
              "    </tr>\n",
              "    <tr>\n",
              "      <th>4</th>\n",
              "      <td>5</td>\n",
              "      <td>5.0</td>\n",
              "      <td>3.6</td>\n",
              "      <td>1.4</td>\n",
              "      <td>0.2</td>\n",
              "      <td>Iris-setosa</td>\n",
              "    </tr>\n",
              "  </tbody>\n",
              "</table>\n",
              "</div>\n",
              "      <button class=\"colab-df-convert\" onclick=\"convertToInteractive('df-8887fdd7-fd35-4834-8769-3ed8bc5c9b45')\"\n",
              "              title=\"Convert this dataframe to an interactive table.\"\n",
              "              style=\"display:none;\">\n",
              "        \n",
              "  <svg xmlns=\"http://www.w3.org/2000/svg\" height=\"24px\"viewBox=\"0 0 24 24\"\n",
              "       width=\"24px\">\n",
              "    <path d=\"M0 0h24v24H0V0z\" fill=\"none\"/>\n",
              "    <path d=\"M18.56 5.44l.94 2.06.94-2.06 2.06-.94-2.06-.94-.94-2.06-.94 2.06-2.06.94zm-11 1L8.5 8.5l.94-2.06 2.06-.94-2.06-.94L8.5 2.5l-.94 2.06-2.06.94zm10 10l.94 2.06.94-2.06 2.06-.94-2.06-.94-.94-2.06-.94 2.06-2.06.94z\"/><path d=\"M17.41 7.96l-1.37-1.37c-.4-.4-.92-.59-1.43-.59-.52 0-1.04.2-1.43.59L10.3 9.45l-7.72 7.72c-.78.78-.78 2.05 0 2.83L4 21.41c.39.39.9.59 1.41.59.51 0 1.02-.2 1.41-.59l7.78-7.78 2.81-2.81c.8-.78.8-2.07 0-2.86zM5.41 20L4 18.59l7.72-7.72 1.47 1.35L5.41 20z\"/>\n",
              "  </svg>\n",
              "      </button>\n",
              "      \n",
              "  <style>\n",
              "    .colab-df-container {\n",
              "      display:flex;\n",
              "      flex-wrap:wrap;\n",
              "      gap: 12px;\n",
              "    }\n",
              "\n",
              "    .colab-df-convert {\n",
              "      background-color: #E8F0FE;\n",
              "      border: none;\n",
              "      border-radius: 50%;\n",
              "      cursor: pointer;\n",
              "      display: none;\n",
              "      fill: #1967D2;\n",
              "      height: 32px;\n",
              "      padding: 0 0 0 0;\n",
              "      width: 32px;\n",
              "    }\n",
              "\n",
              "    .colab-df-convert:hover {\n",
              "      background-color: #E2EBFA;\n",
              "      box-shadow: 0px 1px 2px rgba(60, 64, 67, 0.3), 0px 1px 3px 1px rgba(60, 64, 67, 0.15);\n",
              "      fill: #174EA6;\n",
              "    }\n",
              "\n",
              "    [theme=dark] .colab-df-convert {\n",
              "      background-color: #3B4455;\n",
              "      fill: #D2E3FC;\n",
              "    }\n",
              "\n",
              "    [theme=dark] .colab-df-convert:hover {\n",
              "      background-color: #434B5C;\n",
              "      box-shadow: 0px 1px 3px 1px rgba(0, 0, 0, 0.15);\n",
              "      filter: drop-shadow(0px 1px 2px rgba(0, 0, 0, 0.3));\n",
              "      fill: #FFFFFF;\n",
              "    }\n",
              "  </style>\n",
              "\n",
              "      <script>\n",
              "        const buttonEl =\n",
              "          document.querySelector('#df-8887fdd7-fd35-4834-8769-3ed8bc5c9b45 button.colab-df-convert');\n",
              "        buttonEl.style.display =\n",
              "          google.colab.kernel.accessAllowed ? 'block' : 'none';\n",
              "\n",
              "        async function convertToInteractive(key) {\n",
              "          const element = document.querySelector('#df-8887fdd7-fd35-4834-8769-3ed8bc5c9b45');\n",
              "          const dataTable =\n",
              "            await google.colab.kernel.invokeFunction('convertToInteractive',\n",
              "                                                     [key], {});\n",
              "          if (!dataTable) return;\n",
              "\n",
              "          const docLinkHtml = 'Like what you see? Visit the ' +\n",
              "            '<a target=\"_blank\" href=https://colab.research.google.com/notebooks/data_table.ipynb>data table notebook</a>'\n",
              "            + ' to learn more about interactive tables.';\n",
              "          element.innerHTML = '';\n",
              "          dataTable['output_type'] = 'display_data';\n",
              "          await google.colab.output.renderOutput(dataTable, element);\n",
              "          const docLink = document.createElement('div');\n",
              "          docLink.innerHTML = docLinkHtml;\n",
              "          element.appendChild(docLink);\n",
              "        }\n",
              "      </script>\n",
              "    </div>\n",
              "  </div>\n",
              "  "
            ],
            "text/plain": [
              "   Id  SepalLengthCm  SepalWidthCm  PetalLengthCm  PetalWidthCm      Species\n",
              "0   1            5.1           3.5            1.4           0.2  Iris-setosa\n",
              "1   2            4.9           3.0            1.4           0.2  Iris-setosa\n",
              "2   3            4.7           3.2            1.3           0.2  Iris-setosa\n",
              "3   4            4.6           3.1            1.5           0.2  Iris-setosa\n",
              "4   5            5.0           3.6            1.4           0.2  Iris-setosa"
            ]
          },
          "execution_count": 3,
          "metadata": {},
          "output_type": "execute_result"
        }
      ],
      "source": [
        "data.head()"
      ]
    },
    {
      "cell_type": "code",
      "execution_count": null,
      "metadata": {
        "id": "VaO5BAQyHkvS"
      },
      "outputs": [],
      "source": [
        "# Selecting required features\n",
        "lst=[\"SepalLengthCm\",\"SepalWidthCm\"]\n",
        "x=data.loc[:,lst]\n",
        "y=data.loc[:,\"Species\"]"
      ]
    },
    {
      "cell_type": "code",
      "execution_count": null,
      "metadata": {
        "id": "xNq74PVWIwI8"
      },
      "outputs": [],
      "source": [
        "# Splitting the dataset into train test split\n",
        "X_train,X_test,y_train,y_test=train_test_split(x,y,test_size=0.30)"
      ]
    },
    {
      "cell_type": "code",
      "execution_count": null,
      "metadata": {
        "colab": {
          "base_uri": "https://localhost:8080/",
          "height": 498
        },
        "id": "0IOhl-6EKt9Y",
        "outputId": "64f99a8a-4e4f-43ed-8f2f-940e9a0239dd"
      },
      "outputs": [
        {
          "name": "stdout",
          "output_type": "stream",
          "text": [
            "Accuarcy :  71.0\n"
          ]
        },
        {
          "data": {
            "image/png": "[encoded data removed]",
            "text/plain": [
              "<Figure size 432x288 with 2 Axes>"
            ]
          },
          "metadata": {
            "needs_background": "light"
          },
          "output_type": "display_data"
        },
        {
          "name": "stdout",
          "output_type": "stream",
          "text": [
            "Classification Report\n",
            "                  precision    recall  f1-score   support\n",
            "\n",
            "    Iris-setosa       1.00      1.00      1.00        14\n",
            "Iris-versicolor       0.57      0.81      0.67        16\n",
            " Iris-virginica       0.62      0.33      0.43        15\n",
            "\n",
            "       accuracy                           0.71        45\n",
            "      macro avg       0.73      0.72      0.70        45\n",
            "   weighted avg       0.72      0.71      0.69        45\n",
            "\n"
          ]
        }
      ],
      "source": [
        "# Fitting our model KNeighborsClassifier\n",
        "knn=KNeighborsClassifier(n_neighbors=8)\n",
        "knn.fit(X_train,y_train)\n",
        "y_pred=knn.predict(X_test)\n",
        "knn.score(X_train,y_train)\n",
        "print(\"Accuarcy : \",round(metrics.accuracy_score(y_test,y_pred),2)*100)\n",
        "plot_confusion_matrix(knn,X_test,y_test)\n",
        "plt.show()\n",
        "print(\"Classification Report\\n\",classification_report(y_test,y_pred))"
      ]
    },
    {
      "cell_type": "code",
      "execution_count": null,
      "metadata": {
        "id": "xtAt-Ef6rJ5s"
      },
      "outputs": [],
      "source": []
    },
    {
      "cell_type": "markdown",
      "source": [
        "# Conclusion\n",
        "\n",
        "### We have got an accuracy score of 71% which shows that our model classifies the species correctly\n",
        "\n",
        "\n",
        "In our test set there are\n",
        "\n",
        "14 setosa species\n",
        "\n",
        "16 versicolor\n",
        "\n",
        "15 virginica\n",
        "\n",
        "\n",
        "For Iris Setosa\n",
        "\n",
        "True Positive TP 14\n",
        "\n",
        "False Positive FP 0\n",
        "\n",
        "True Negative TN 31\n",
        "\n",
        "False Negative FN 0\n",
        "\n",
        "## Based on Classifiaction report\n",
        "### Our model has 14 setosa species and based on precision and recall our model has correctly predicted all the 14 instances as setosa\n",
        "### As f1 score is close to 1 we can conclude that our model can best predict the class setosa\n",
        "\n",
        "## For Iris Versicolor\n",
        "## True Positive TP 13\n",
        "## False Positive FP 10\n",
        "## True Negative TN 21\n",
        "## False Negative FN 3\n",
        "\n",
        "## Based on Classifiaction report\n",
        "### Our model has 16 versicolor species and based on precision our model has predicted 57% as versicolor\n",
        "### Based on recall our model has correctly predicted 81% as versicolor\n",
        "### As f1 score is close to 1 we can conclude that our model can  predict the class versicolor\n",
        "\n",
        "## For Iris Virginica\n",
        "## True Positive TP 5\n",
        "## False Positive FP 3\n",
        "## True Negative TN 27\n",
        "## False Negative FN 10\n",
        "\n",
        "## Based on Classifiaction report\n",
        "### Our model has 15 virginica species and based on precision our model has predicted 62% as virginica\n",
        "### Based on recall our model has correctly predicted 33% as verginica\n",
        "### As f1 score is not close to 1 we can conclude that our model cannot  predict the class virginica correctly\n",
        "\n",
        "### We see that compared to versicolor and virginica our model better predicts setosa class"
      ],
      "metadata": {
        "id": "x98ybYbiMmix"
      }
    },
    {
      "cell_type": "code",
      "execution_count": null,
      "metadata": {
        "colab": {
          "base_uri": "https://localhost:8080/"
        },
        "id": "fXlEKM7K1jdG",
        "outputId": "9fcd0f1b-a920-4051-d340-b0d52ea91144"
      },
      "outputs": [
        {
          "data": {
            "text/plain": [
              "GridSearchCV(estimator=KNeighborsClassifier(),\n",
              "             param_grid={'n_neighbors': array([ 5,  6,  7,  8,  9, 10, 11, 12, 13, 14, 15, 16, 17, 18, 19]),\n",
              "                         'p': [1, 2], 'weights': ['uniform', 'distance']})"
            ]
          },
          "execution_count": 9,
          "metadata": {},
          "output_type": "execute_result"
        }
      ],
      "source": [
        "# Grid Search CV for hyperparameter tuning\n",
        "para={'n_neighbors':np.arange(5,20),\n",
        "      'weights':['uniform','distance'],\n",
        "      'p':[1,2]}\n",
        "grd=GridSearchCV(KNeighborsClassifier(),para)\n",
        "grd.fit(X_train,y_train)"
      ]
    },
    {
      "cell_type": "code",
      "execution_count": null,
      "metadata": {
        "colab": {
          "base_uri": "https://localhost:8080/"
        },
        "id": "lPbMjPvq1jVA",
        "outputId": "6cbf7257-3886-4eee-da4a-c254656ea3c6"
      },
      "outputs": [
        {
          "data": {
            "text/plain": [
              "{'n_neighbors': 5, 'p': 2, 'weights': 'uniform'}"
            ]
          },
          "execution_count": 10,
          "metadata": {},
          "output_type": "execute_result"
        }
      ],
      "source": [
        "grd.best_params_"
      ]
    },
    {
      "cell_type": "code",
      "execution_count": null,
      "metadata": {
        "id": "Pezwg0Ys4Ymz"
      },
      "outputs": [],
      "source": [
        "# Using GridSearchCV we have got neighbors as 5 the distance measure as manhattan and weights\n",
        "# as uniform"
      ]
    },
    {
      "cell_type": "code",
      "execution_count": null,
      "metadata": {
        "colab": {
          "base_uri": "https://localhost:8080/",
          "height": 498
        },
        "id": "yfZ_NVbv4o4e",
        "outputId": "40e72902-f5b0-4a1e-bf1a-8217485af2bc"
      },
      "outputs": [
        {
          "name": "stdout",
          "output_type": "stream",
          "text": [
            "Accuarcy after grid search CV is :  76.0\n"
          ]
        },
        {
          "data": {
            "image/png": "[encoded data removed]",
            "text/plain": [
              "<Figure size 432x288 with 2 Axes>"
            ]
          },
          "metadata": {
            "needs_background": "light"
          },
          "output_type": "display_data"
        },
        {
          "name": "stdout",
          "output_type": "stream",
          "text": [
            "Classification Report\n",
            "                  precision    recall  f1-score   support\n",
            "\n",
            "    Iris-setosa       1.00      1.00      1.00        14\n",
            "Iris-versicolor       0.63      0.75      0.69        16\n",
            " Iris-virginica       0.67      0.53      0.59        15\n",
            "\n",
            "       accuracy                           0.76        45\n",
            "      macro avg       0.77      0.76      0.76        45\n",
            "   weighted avg       0.76      0.76      0.75        45\n",
            "\n"
          ]
        }
      ],
      "source": [
        "# Fitting our model to the best parameter obtained from grid search cv\n",
        "knn1=KNeighborsClassifier(n_neighbors=5,weights='uniform',p=2)\n",
        "knn1.fit(X_train,y_train)\n",
        "y1_pred=knn1.predict(X_test)\n",
        "knn1.score(X_train,y_train)\n",
        "print(\"Accuarcy after grid search CV is : \",round(metrics.accuracy_score(y_test,y1_pred),2)*100)\n",
        "plot_confusion_matrix(knn1,X_test,y_test)\n",
        "plt.show()\n",
        "print(\"Classification Report\\n\",classification_report(y_test,y1_pred))"
      ]
    },
    {
      "cell_type": "code",
      "execution_count": null,
      "metadata": {
        "id": "D2DTSjQW48mC"
      },
      "outputs": [],
      "source": [
        "\n"
      ]
    },
    {
      "cell_type": "markdown",
      "source": [
        "# Conclusion\n",
        "## We have got an accuracy score of 76% which shows that our model classifies the species correctly\n",
        "\n",
        "In our test set there are\n",
        "\n",
        "14 setosa species\n",
        "\n",
        "16 versicolor\n",
        "\n",
        "15 virginica\n",
        "\n",
        "\n",
        "\n",
        "For Iris Setosa\n",
        "\n",
        "True Positive TP 14\n",
        "\n",
        "False Positive FP 0\n",
        "\n",
        "True Negative TN 31\n",
        "\n",
        "False Negative FN 0\n",
        "\n",
        "## Based on Classifiaction report\n",
        "### Our model has 14 setosa species and based on precision and recall our model has correctly predicted all the 14 instances as setosa\n",
        "### As f1 score is close to 1 we can conclude that our model can best predict the class setosa\n",
        "\n",
        "# For Iris Versicolor\n",
        "# True Positive TP 12\n",
        "# False Positive FP 7\n",
        "# True Negative TN  22\n",
        "# False Negative FN 4\n",
        "\n",
        "## Based on Classifiaction report\n",
        "### Our model has 16 versicolor species and based on precision our model has predicted 63% as versicolor\n",
        "### Based on recall our model has correctly predicted 75% as versicolor\n",
        "### As f1 score is close to 1 we can conclude that our model can  predict the class versicolor\n",
        "\n",
        "For Iris Virginica\n",
        "True Positive TP 8\n",
        "False Positive FP 4\n",
        "True Negative TN  26\n",
        "False Negative FN 7\n",
        "\n",
        "## Based on Classifiaction report\n",
        "### Our model has 15 virginica species and based on precision our model has predicted 67% as virginica\n",
        "### Based on recall our model has correctly predicted 53% as verginica\n",
        "### As f1 score is not that close to 1 we can conclude that our model cannot predict the class virginica accurately"
      ],
      "metadata": {
        "id": "0ZIG-D_PNMTQ"
      }
    },
    {
      "cell_type": "code",
      "execution_count": null,
      "metadata": {
        "id": "_jrIqXPRBs1g"
      },
      "outputs": [],
      "source": [
        "# Conclusion\n",
        "\n",
        "# After using grid search cv and finding the optimal neighbors as 5 we get a\n",
        "# better model\n",
        "# that can predict the classes accurately compared to that of original model with\n",
        "# 8 neighbors."
      ]
    }
  ],
  "metadata": {
    "colab": {
      "provenance": []
    },
    "kernelspec": {
      "display_name": "Python 3 (ipykernel)",
      "language": "python",
      "name": "python3"
    },
    "language_info": {
      "codemirror_mode": {
        "name": "ipython",
        "version": 3
      },
      "file_extension": ".py",
      "mimetype": "text/x-python",
      "name": "python",
      "nbconvert_exporter": "python",
      "pygments_lexer": "ipython3",
      "version": "3.9.12"
    }
  },
  "nbformat": 4,
  "nbformat_minor": 0
}